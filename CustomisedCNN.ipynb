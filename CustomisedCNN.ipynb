{
  "nbformat": 4,
  "nbformat_minor": 0,
  "metadata": {
    "accelerator": "GPU",
    "colab": {
      "provenance": []
    },
    "kernelspec": {
      "display_name": "Python 3",
      "name": "python3"
    },
    "language_info": {
      "name": "python"
    }
  },
  "cells": [
    {
      "cell_type": "code",
      "metadata": {
        "colab": {
          "base_uri": "https://localhost:8080/"
        },
        "id": "y_XKN-RJEYCZ",
        "outputId": "b77f6d5c-77f5-4f2b-c681-883da0c7d145"
      },
      "source": [
        "!pip install pytorch-complex\n",
        "import torchcomplex\n",
        "import torch\n",
        "import torch.nn as nn\n",
        "import torch.nn.functional as F\n",
        "from torch.utils.data import DataLoader, Dataset\n",
        "from torchvision import transforms, models\n",
        "from torchvision.utils import make_grid\n",
        "import os\n",
        "import random\n",
        "import numpy as np\n",
        "import pandas as pd\n",
        "import pickle\n",
        "import time\n",
        "import matplotlib.pyplot as plt\n",
        "import seaborn as sns\n",
        "from sklearn.model_selection import train_test_split\n",
        "from sklearn.metrics import confusion_matrix, classification_report, jaccard_similarity_score\n",
        "from google.colab import drive"
      ],
      "execution_count": null,
      "outputs": [
        {
          "output_type": "stream",
          "text": [
            "Collecting pytorch-complex\n",
            "\u001b[?25l  Downloading https://files.pythonhosted.org/packages/16/78/06b3d8c7937e772773ca0bccbb3880fa71dd574b7f20d44ec01d07fb6f80/pytorch_complex-0.0.8-py3-none-any.whl (42kB)\n",
            "\r\u001b[K     |███████▊                        | 10kB 16.8MB/s eta 0:00:01\r\u001b[K     |███████████████▍                | 20kB 12.9MB/s eta 0:00:01\r\u001b[K     |███████████████████████▏        | 30kB 9.4MB/s eta 0:00:01\r\u001b[K     |██████████████████████████████▉ | 40kB 8.2MB/s eta 0:00:01\r\u001b[K     |████████████████████████████████| 51kB 3.0MB/s \n",
            "\u001b[?25hRequirement already satisfied: torch>=1.7 in /usr/local/lib/python3.7/dist-packages (from pytorch-complex) (1.9.0+cu102)\n",
            "Requirement already satisfied: typing-extensions in /usr/local/lib/python3.7/dist-packages (from torch>=1.7->pytorch-complex) (3.7.4.3)\n",
            "Installing collected packages: pytorch-complex\n",
            "Successfully installed pytorch-complex-0.0.8\n"
          ],
          "name": "stdout"
        }
      ]
    },
    {
      "cell_type": "code",
      "metadata": {
        "id": "uVq_8UQ1Ev-o"
      },
      "source": [
        "CUDA_LAUNCH_BLOCKING=1"
      ],
      "execution_count": null,
      "outputs": []
    },
    {
      "cell_type": "code",
      "metadata": {
        "colab": {
          "base_uri": "https://localhost:8080/"
        },
        "id": "psKa_o6SE0g1",
        "outputId": "38f5beed-eb34-468f-ba7f-4c3549fcde8f"
      },
      "source": [
        "!nvidia-smi"
      ],
      "execution_count": null,
      "outputs": [
        {
          "output_type": "stream",
          "text": [
            "Sun Jun 20 10:27:41 2021       \n",
            "+-----------------------------------------------------------------------------+\n",
            "| NVIDIA-SMI 465.27       Driver Version: 460.32.03    CUDA Version: 11.2     |\n",
            "|-------------------------------+----------------------+----------------------+\n",
            "| GPU  Name        Persistence-M| Bus-Id        Disp.A | Volatile Uncorr. ECC |\n",
            "| Fan  Temp  Perf  Pwr:Usage/Cap|         Memory-Usage | GPU-Util  Compute M. |\n",
            "|                               |                      |               MIG M. |\n",
            "|===============================+======================+======================|\n",
            "|   0  Tesla V100-SXM2...  Off  | 00000000:00:04.0 Off |                    0 |\n",
            "| N/A   42C    P0    28W / 300W |      0MiB / 16160MiB |      0%      Default |\n",
            "|                               |                      |                  N/A |\n",
            "+-------------------------------+----------------------+----------------------+\n",
            "                                                                               \n",
            "+-----------------------------------------------------------------------------+\n",
            "| Processes:                                                                  |\n",
            "|  GPU   GI   CI        PID   Type   Process name                  GPU Memory |\n",
            "|        ID   ID                                                   Usage      |\n",
            "|=============================================================================|\n",
            "|  No running processes found                                                 |\n",
            "+-----------------------------------------------------------------------------+\n"
          ],
          "name": "stdout"
        }
      ]
    },
    {
      "cell_type": "code",
      "metadata": {
        "colab": {
          "base_uri": "https://localhost:8080/"
        },
        "id": "kIu121bME7te",
        "outputId": "11f87040-d789-4abe-a427-67256348ccff"
      },
      "source": [
        "drive.mount('/content/drive')"
      ],
      "execution_count": null,
      "outputs": [
        {
          "output_type": "stream",
          "text": [
            "Drive already mounted at /content/drive; to attempt to forcibly remount, call drive.mount(\"/content/drive\", force_remount=True).\n"
          ],
          "name": "stdout"
        }
      ]
    },
    {
      "cell_type": "code",
      "metadata": {
        "id": "SsAZREILGC1Y"
      },
      "source": [
        "training_data = pickle.load(open('/content/drive/My Drive/trainingData.pickle', 'rb'))"
      ],
      "execution_count": null,
      "outputs": []
    },
    {
      "cell_type": "code",
      "metadata": {
        "id": "TIyxQmejGDu_"
      },
      "source": [
        "Xt = []\n",
        "yt = []\n",
        "features = None\n",
        "labels = None\n",
        "label = []"
      ],
      "execution_count": null,
      "outputs": []
    },
    {
      "cell_type": "code",
      "metadata": {
        "id": "5p5jUu97GF-j"
      },
      "source": [
        "for features,labels in training_data:\n",
        "  Xt.append(features)\n",
        "  yt.append(labels)"
      ],
      "execution_count": null,
      "outputs": []
    },
    {
      "cell_type": "code",
      "metadata": {
        "colab": {
          "base_uri": "https://localhost:8080/"
        },
        "id": "6MWZoa1pGKnI",
        "outputId": "c6fbfe18-c753-427e-d68c-b2c34c3e88ca"
      },
      "source": [
        "a = np.array(Xt)\n",
        "b = np.array(yt)\n",
        "type(a)"
      ],
      "execution_count": null,
      "outputs": [
        {
          "output_type": "execute_result",
          "data": {
            "text/plain": [
              "numpy.ndarray"
            ]
          },
          "metadata": {
            "tags": []
          },
          "execution_count": 8
        }
      ]
    },
    {
      "cell_type": "code",
      "metadata": {
        "id": "K76PvxBaGLRx"
      },
      "source": [
        "# 70 % training, 15% validating, 15% testing\n",
        "X_train, X_test, y_train, y_test = train_test_split(a, b, test_size=0.30, shuffle=True)  # 70% training, 30% testing\n",
        "#X_valid, X_test, y_valid, y_test = train_test_split(X_test, y_test, test_size=0.5, shuffle=True)  # split testing set into 50% validation , 50% testing"
      ],
      "execution_count": null,
      "outputs": []
    },
    {
      "cell_type": "code",
      "metadata": {
        "colab": {
          "base_uri": "https://localhost:8080/"
        },
        "id": "PrekDbNiGOWF",
        "outputId": "086ced7d-5df1-445a-f38c-85daf496ec78"
      },
      "source": [
        "print(\"Xtrain data shape\",X_train.shape)\n",
        "print(\"YTrain data shape\",y_train.shape)"
      ],
      "execution_count": null,
      "outputs": [
        {
          "output_type": "stream",
          "text": [
            "Xtrain data shape (2144, 512, 512, 3)\n",
            "YTrain data shape (2144,)\n"
          ],
          "name": "stdout"
        }
      ]
    },
    {
      "cell_type": "code",
      "metadata": {
        "colab": {
          "base_uri": "https://localhost:8080/",
          "height": 629
        },
        "id": "Z7CSA-FRGT72",
        "outputId": "ae424f1c-d893-4a0b-c2e0-e1198aa2bcf0"
      },
      "source": [
        "# visualizing images\n",
        "i = 0\n",
        "plt.figure(figsize=(10,10))\n",
        "plt.subplot(221), plt.imshow(X_train[i], cmap='gray')\n",
        "plt.subplot(222), plt.imshow(X_train[i+30], cmap='gray')\n",
        "plt.subplot(223), plt.imshow(X_train[i+50], cmap='gray')\n",
        "plt.subplot(224), plt.imshow(X_train[i+100], cmap='gray')"
      ],
      "execution_count": null,
      "outputs": [
        {
          "output_type": "execute_result",
          "data": {
            "text/plain": [
              "(<matplotlib.axes._subplots.AxesSubplot at 0x7fd3ea8f6b90>,\n",
              " <matplotlib.image.AxesImage at 0x7fd3ea83e2d0>)"
            ]
          },
          "metadata": {
            "tags": []
          },
          "execution_count": 11
        },
        {
          "output_type": "display_data",
          "data": {
            "image/png": "[encoded data removed]",
            "text/plain": [
              "<Figure size 720x720 with 4 Axes>"
            ]
          },
          "metadata": {
            "tags": [],
            "needs_background": "light"
          }
        }
      ]
    },
    {
      "cell_type": "code",
      "metadata": {
        "colab": {
          "base_uri": "https://localhost:8080/"
        },
        "id": "3svFCCntGUWS",
        "outputId": "7b745195-a259-44ca-f9dd-ab69c0555943"
      },
      "source": [
        "X_train[1].shape"
      ],
      "execution_count": null,
      "outputs": [
        {
          "output_type": "execute_result",
          "data": {
            "text/plain": [
              "(512, 512, 3)"
            ]
          },
          "metadata": {
            "tags": []
          },
          "execution_count": 12
        }
      ]
    },
    {
      "cell_type": "code",
      "metadata": {
        "id": "Yv2inve6GXhO"
      },
      "source": [
        "class BrainTumorDataset(Dataset):\n",
        "  def __init__(self, images, labels):\n",
        "    # images\n",
        "    self.X = images\n",
        "    # labels\n",
        "    self.y = labels\n",
        "    #self.trans = transforms.Compose([transforms.ToPILImage(),transforms.ToTensor(), transforms.Normalize((0.5,), (1.0,))])\n",
        "    self.tran = transforms.Compose([transforms.ToTensor(), transforms.Normalize((0.5,), (1.0,))])\n",
        "  def __len__(self):\n",
        "    # return length of image samples\n",
        "    return len(self.X)\n",
        "\n",
        "  def __getitem__(self, idx):\n",
        "    # perform transformations on one instance of X\n",
        "    # numpy array as a tensor\n",
        "    #tensor = transforms.Tensor(self.X[idx])\n",
        "    #tensor in complex representation\n",
        "    #data = torch.fft.ifft(tensor)\n",
        "    data = self.tran(self.X[idx])\n",
        "    \n",
        "    # store the transformed images in a list\n",
        "    new_batch = [data]\n",
        "\n",
        "    # one-hot encode the labels\n",
        "    labels = torch.zeros(4, dtype=torch.float32)\n",
        "    labels[int(self.y[idx])] = 1.0\n",
        "    #labels = self.y[idx]\n",
        "    new_labels = [labels]\n",
        "    # 8 augmented images and corresponding labels per sample will be returned\n",
        "    return (torch.stack(new_labels), torch.stack(new_batch))"
      ],
      "execution_count": null,
      "outputs": []
    },
    {
      "cell_type": "code",
      "metadata": {
        "id": "euSM5zYvGbyj"
      },
      "source": [
        "Xt = None\n",
        "yt = None\n",
        "features = None\n",
        "labels = None\n",
        "label = None\n",
        "training_data = None\n",
        "a = None\n",
        "b = None"
      ],
      "execution_count": null,
      "outputs": []
    },
    {
      "cell_type": "code",
      "metadata": {
        "id": "QWGrl_2aGfR_"
      },
      "source": [
        "train_set = BrainTumorDataset(X_train, y_train)\n",
        "#valid_set = BrainTumorDataset(X_valid, y_valid)\n",
        "test_set = BrainTumorDataset(X_test, y_test)"
      ],
      "execution_count": null,
      "outputs": []
    },
    {
      "cell_type": "code",
      "metadata": {
        "colab": {
          "base_uri": "https://localhost:8080/"
        },
        "id": "jVHF8JBhGh0I",
        "outputId": "eafcff71-7af8-472d-9ce3-6bfc28fce65c"
      },
      "source": [
        "print(f\"Number of training samples: {len(X_train)}\")\n",
        "#print(f\"Number of validation samples: {len(X_valid)}\")\n",
        "print(f\"Number of testing samples: {len(X_test)}\")"
      ],
      "execution_count": null,
      "outputs": [
        {
          "output_type": "stream",
          "text": [
            "Number of training samples: 2144\n",
            "Number of testing samples: 920\n"
          ],
          "name": "stdout"
        }
      ]
    },
    {
      "cell_type": "code",
      "metadata": {
        "colab": {
          "base_uri": "https://localhost:8080/"
        },
        "id": "wxyqlPbPGj75",
        "outputId": "f342c35d-ba80-4630-f0bb-ac66ad785eaf"
      },
      "source": [
        "train_gen = DataLoader(train_set, batch_size=4, shuffle=True, pin_memory=True, num_workers=8)\n",
        "#valid_gen = DataLoader(valid_set, batch_size=4, shuffle=True, pin_memory=True, num_workers=8)\n",
        "test_gen = DataLoader(test_set, batch_size=4, shuffle=True, pin_memory=True, num_workers=8)"
      ],
      "execution_count": null,
      "outputs": [
        {
          "output_type": "stream",
          "text": [
            "/usr/local/lib/python3.7/dist-packages/torch/utils/data/dataloader.py:481: UserWarning: This DataLoader will create 8 worker processes in total. Our suggested max number of worker in current system is 2, which is smaller than what this DataLoader is going to create. Please be aware that excessive worker creation might get DataLoader running slow or even freeze, lower the worker number to avoid potential slowness/freeze if necessary.\n",
            "  cpuset_checked))\n"
          ],
          "name": "stderr"
        }
      ]
    },
    {
      "cell_type": "code",
      "metadata": {
        "id": "wRMJzkVWGoB3"
      },
      "source": [
        "class ConvNet(nn.Module):\n",
        "    def __init__(self):\n",
        "        super(ConvNet, self).__init__()\n",
        "        self.conv1 = nn.Conv2d(3,64,5)\n",
        "        self.pool = nn.MaxPool2d(2, 2)\n",
        "        self.conv2 = nn.Conv2d(64, 16, 5)\n",
        "        self.fc1 = nn.Linear(16 * 125 * 125, 1000)\n",
        "        \n",
        "\n",
        "    def forward(self, x):\n",
        "        # -> n, 3, 32, 32\n",
        "        x = self.pool(F.relu(self.conv1(x)))  # -> n, 6, 14, 14\n",
        "        x = self.pool(F.relu(self.conv2(x)))  # -> n, 16, 5, 5\n",
        "        x = x.view(-1, 16 * 125 * 125)            # -> n, 400\n",
        "        #x = F.relu(self.fc1(x))               # -> n, 120\n",
        "        #x = F.relu(self.fc2(x))               # -> n, 84\n",
        "        x = self.fc1(x)                       # -> n, 10\n",
        "        return x"
      ],
      "execution_count": null,
      "outputs": []
    },
    {
      "cell_type": "code",
      "metadata": {
        "id": "uT-d_X7iGs3O"
      },
      "source": [
        "# for evaluating the model\n",
        "from sklearn.metrics import accuracy_score\n",
        "from tqdm import tqdm\n",
        "\n",
        "# PyTorch libraries and modules\n",
        "import torch\n",
        "from torch.autograd import Variable\n",
        "from torch.nn import Linear, ReLU, CrossEntropyLoss, Sequential, Conv2d, MaxPool2d, Module, Softmax, BatchNorm2d, Dropout\n",
        "from torch.optim import Adam, SGD"
      ],
      "execution_count": null,
      "outputs": []
    },
    {
      "cell_type": "code",
      "metadata": {
        "colab": {
          "base_uri": "https://localhost:8080/"
        },
        "id": "4CH4m6_MGwzs",
        "outputId": "bd8edcad-1553-4356-8de3-9458f6d0ff39"
      },
      "source": [
        "device = device = torch.device('cuda' if torch.cuda.is_available() else 'cpu')\n",
        "# defining the model\n",
        "model = ConvNet().to(device)    \n",
        "print(model)"
      ],
      "execution_count": null,
      "outputs": [
        {
          "output_type": "stream",
          "text": [
            "ConvNet(\n",
            "  (conv1): Conv2d(3, 64, kernel_size=(5, 5), stride=(1, 1))\n",
            "  (pool): MaxPool2d(kernel_size=2, stride=2, padding=0, dilation=1, ceil_mode=False)\n",
            "  (conv2): Conv2d(64, 16, kernel_size=(5, 5), stride=(1, 1))\n",
            "  (fc1): Linear(in_features=250000, out_features=1000, bias=True)\n",
            ")\n"
          ],
          "name": "stdout"
        }
      ]
    },
    {
      "cell_type": "code",
      "metadata": {
        "id": "VHu7U5RrG2s3"
      },
      "source": [
        "# loss function\n",
        "# if GPU is available set loss function to use GPU\n",
        "criterion = nn.CrossEntropyLoss().to(device)\n",
        "\n",
        "# optimizer\n",
        "optimizer = torch.optim.SGD(model.parameters(), lr=3e-4, momentum=0.9)\n",
        "\n",
        "# number of training iterations\n",
        "epochs = 50\n",
        "#epochs = 30\n",
        "\n",
        "# empty lists to store losses and accuracies\n",
        "train_losses = []\n",
        "test_losses = []\n",
        "train_correct = []\n",
        "test_correct = []"
      ],
      "execution_count": null,
      "outputs": []
    },
    {
      "cell_type": "code",
      "metadata": {
        "id": "rXDqgrocG6pN"
      },
      "source": [
        "def save_checkpoint(state, is_best, filename='/content/drive/My Drive/bt_resnet50_ckpt_v2.pth.tar'):\n",
        "    torch.save(state, filename)"
      ],
      "execution_count": null,
      "outputs": []
    },
    {
      "cell_type": "code",
      "metadata": {
        "colab": {
          "base_uri": "https://localhost:8080/"
        },
        "id": "2kD3UTA5OWVP",
        "outputId": "967fc300-9494-4f3c-fe1b-f63a921367fc"
      },
      "source": [
        "# set training start time\n",
        "start_time = time.time()\n",
        "\n",
        "# set best_prec loss value as 2 for checkpoint threshold\n",
        "best_prec1 = 2\n",
        "\n",
        "# empty batch variables\n",
        "b = None\n",
        "train_b = None\n",
        "test_b = None\n",
        "\n",
        "# start training\n",
        "for i in range(epochs):\n",
        "    # empty training correct and test correct counter as 0 during every iteration\n",
        "    trn_corr = 0\n",
        "    tst_corr = 0\n",
        "    \n",
        "    # set epoch's starting time\n",
        "    e_start = time.time()\n",
        "    \n",
        "    # train in batches\n",
        "    for b, (y, X) in enumerate(train_set):\n",
        "        # set label as cuda if device is cuda\n",
        "        X, y = X.to(device), y.to(device)\n",
        "        # forward pass image sample\n",
        "        y_pred = model(X.view(-1, 3, 512, 512))\n",
        "        # calculate loss\n",
        "        loss = criterion(y_pred.float(), torch.argmax(y.view(1,4), dim=1).long())\n",
        "\n",
        "        # get argmax of predicted tensor, which is our label\n",
        "        predicted = torch.argmax(y_pred, dim=1).data\n",
        "        # if predicted label is correct as true label, calculate the sum for samples\n",
        "        batch_corr = (predicted == torch.argmax(y.view(1, 4), dim=1)).sum()\n",
        "        # increment train correct with correcly predicted labels per batch\n",
        "        trn_corr += batch_corr\n",
        "        \n",
        "        # set optimizer gradients to zero\n",
        "        optimizer.zero_grad()\n",
        "        # back propagate with loss\n",
        "        loss.backward()\n",
        "        # perform optimizer step\n",
        "        optimizer.step()\n",
        "\n",
        "    # set epoch's end time\n",
        "    e_end = time.time()\n",
        "    # print training metrics\n",
        "    print(f'Epoch {(i+1)} Batch {(b+1)*1}\\nAccuracy: {trn_corr.item()*100/(len(train_set)):2.2f} %  Loss: {loss.item():2.4f}  Duration: {((e_end-e_start)/60):.2f} minutes') # 4 images per batch * 8 augmentations per image * batch length\n",
        "\n",
        "    # some metrics storage for visualization\n",
        "    train_b = b\n",
        "    train_losses.append(loss)\n",
        "    train_correct.append(trn_corr)\n",
        "\n",
        "    X, y = None, None\n",
        "\n",
        "    # validate using validation generator\n",
        "    # do not perform any gradient updates while validation\n",
        "    with torch.no_grad():\n",
        "        for b, (y, X) in enumerate(test_set):\n",
        "            # set label as cuda if device is cuda\n",
        "            X, y = X.to(device), y.to(device)\n",
        "            #print(y.shape)\n",
        "            # forward pass image\n",
        "            y_val = model(X.view(-1, 3, 512, 512))\n",
        "\n",
        "            # get argmax of predicted tensor, which is our label\n",
        "            predicted = torch.argmax(y_val, dim=1).data\n",
        "\n",
        "            # increment test correct with correcly predicted labels per batch\n",
        "            tst_corr += (predicted == torch.argmax(y.view(1, 4), dim=1)).sum()\n",
        "\n",
        "    # get loss of validation set\n",
        "    loss = criterion(y_val.float(), torch.argmax(y.view(1, 4), dim=1).long())\n",
        "    # print validation metrics\n",
        "    print(f'Validation Accuracy {tst_corr.item()*100/(len(test_set)):2.2f} Validation Loss: {loss.item():2.4f}\\n')\n",
        "\n",
        "    # if current validation loss is less than previous iteration's validatin loss create and save a checkpoint\n",
        "    is_best = loss < best_prec1\n",
        "    best_prec1 = min(loss, best_prec1)\n",
        "    save_checkpoint({\n",
        "            'epoch': i + 1,\n",
        "            'state_dict': model.state_dict(),\n",
        "            'best_prec1': best_prec1,\n",
        "        }, is_best)\n",
        "\n",
        "    # some metrics storage for visualization\n",
        "    test_b  = b\n",
        "    test_losses.append(loss)\n",
        "    test_correct.append(tst_corr)\n",
        "\n",
        "# set total training's end time\n",
        "end_time = time.time() - start_time    \n",
        "\n",
        "# print training summary\n",
        "print(\"\\nTraining Duration {:.2f} minutes\".format(end_time/60))\n",
        "print(\"GPU memory used : {} kb\".format(torch.cuda.memory_allocated()))\n",
        "print(\"GPU memory cached : {} kb\".format(torch.cuda.memory_cached()))"
      ],
      "execution_count": null,
      "outputs": [
        {
          "output_type": "stream",
          "text": [
            "/usr/local/lib/python3.7/dist-packages/torch/nn/functional.py:718: UserWarning: Named tensors and all their associated APIs are an experimental feature and subject to change. Please do not use them for anything important until they are released as stable. (Triggered internally at  /pytorch/c10/core/TensorImpl.h:1156.)\n",
            "  return torch.max_pool2d(input, kernel_size, stride, padding, dilation, ceil_mode)\n"
          ],
          "name": "stderr"
        },
        {
          "output_type": "stream",
          "text": [
            "Epoch 1 Batch 2144\n",
            "Accuracy: 70.20 %  Loss: 0.1916  Duration: 0.80 minutes\n",
            "Validation Accuracy 81.20 Validation Loss: 0.2404\n",
            "\n",
            "Epoch 2 Batch 2144\n",
            "Accuracy: 84.47 %  Loss: 0.0599  Duration: 0.80 minutes\n",
            "Validation Accuracy 84.35 Validation Loss: 0.1520\n",
            "\n",
            "Epoch 3 Batch 2144\n",
            "Accuracy: 89.32 %  Loss: 0.0705  Duration: 0.79 minutes\n",
            "Validation Accuracy 81.74 Validation Loss: 0.1093\n",
            "\n",
            "Epoch 4 Batch 2144\n",
            "Accuracy: 91.88 %  Loss: 0.0481  Duration: 0.80 minutes\n",
            "Validation Accuracy 82.83 Validation Loss: 0.0844\n",
            "\n",
            "Epoch 5 Batch 2144\n",
            "Accuracy: 95.71 %  Loss: 0.0493  Duration: 0.80 minutes\n",
            "Validation Accuracy 81.52 Validation Loss: 0.0241\n",
            "\n",
            "Epoch 6 Batch 2144\n",
            "Accuracy: 96.78 %  Loss: 0.0025  Duration: 0.79 minutes\n",
            "Validation Accuracy 82.17 Validation Loss: 0.2799\n",
            "\n",
            "Epoch 7 Batch 2144\n",
            "Accuracy: 98.27 %  Loss: 0.0001  Duration: 0.80 minutes\n",
            "Validation Accuracy 84.46 Validation Loss: 0.0625\n",
            "\n",
            "Epoch 8 Batch 2144\n",
            "Accuracy: 98.65 %  Loss: 0.0000  Duration: 0.79 minutes\n",
            "Validation Accuracy 84.35 Validation Loss: 0.1207\n",
            "\n",
            "Epoch 9 Batch 2144\n",
            "Accuracy: 98.79 %  Loss: 0.0000  Duration: 0.80 minutes\n",
            "Validation Accuracy 83.15 Validation Loss: 0.1610\n",
            "\n",
            "Epoch 10 Batch 2144\n",
            "Accuracy: 99.21 %  Loss: 0.0000  Duration: 0.80 minutes\n",
            "Validation Accuracy 84.57 Validation Loss: 0.0007\n",
            "\n",
            "Epoch 11 Batch 2144\n",
            "Accuracy: 99.67 %  Loss: 0.0000  Duration: 0.80 minutes\n",
            "Validation Accuracy 84.13 Validation Loss: 0.0028\n",
            "\n",
            "Epoch 12 Batch 2144\n",
            "Accuracy: 99.77 %  Loss: 0.0000  Duration: 0.80 minutes\n",
            "Validation Accuracy 85.11 Validation Loss: 0.0040\n",
            "\n",
            "Epoch 13 Batch 2144\n",
            "Accuracy: 100.00 %  Loss: 0.0000  Duration: 0.80 minutes\n",
            "Validation Accuracy 85.76 Validation Loss: 0.0003\n",
            "\n",
            "Epoch 14 Batch 2144\n",
            "Accuracy: 100.00 %  Loss: 0.0000  Duration: 0.80 minutes\n",
            "Validation Accuracy 85.87 Validation Loss: 0.0003\n",
            "\n",
            "Epoch 15 Batch 2144\n",
            "Accuracy: 100.00 %  Loss: 0.0000  Duration: 0.80 minutes\n",
            "Validation Accuracy 85.87 Validation Loss: 0.0002\n",
            "\n",
            "Epoch 16 Batch 2144\n",
            "Accuracy: 100.00 %  Loss: 0.0000  Duration: 0.79 minutes\n",
            "Validation Accuracy 85.98 Validation Loss: 0.0002\n",
            "\n",
            "Epoch 17 Batch 2144\n",
            "Accuracy: 100.00 %  Loss: 0.0000  Duration: 0.80 minutes\n",
            "Validation Accuracy 85.87 Validation Loss: 0.0001\n",
            "\n",
            "Epoch 18 Batch 2144\n",
            "Accuracy: 100.00 %  Loss: 0.0000  Duration: 0.80 minutes\n",
            "Validation Accuracy 85.98 Validation Loss: 0.0001\n",
            "\n",
            "Epoch 19 Batch 2144\n",
            "Accuracy: 100.00 %  Loss: 0.0000  Duration: 0.80 minutes\n",
            "Validation Accuracy 86.09 Validation Loss: 0.0001\n",
            "\n",
            "Epoch 20 Batch 2144\n",
            "Accuracy: 100.00 %  Loss: 0.0000  Duration: 0.80 minutes\n",
            "Validation Accuracy 86.20 Validation Loss: 0.0001\n",
            "\n",
            "Epoch 21 Batch 2144\n",
            "Accuracy: 100.00 %  Loss: 0.0000  Duration: 0.79 minutes\n",
            "Validation Accuracy 86.20 Validation Loss: 0.0001\n",
            "\n",
            "Epoch 22 Batch 2144\n",
            "Accuracy: 100.00 %  Loss: 0.0000  Duration: 0.80 minutes\n",
            "Validation Accuracy 86.30 Validation Loss: 0.0001\n",
            "\n",
            "Epoch 23 Batch 2144\n",
            "Accuracy: 100.00 %  Loss: 0.0000  Duration: 0.80 minutes\n",
            "Validation Accuracy 86.30 Validation Loss: 0.0001\n",
            "\n",
            "Epoch 24 Batch 2144\n",
            "Accuracy: 100.00 %  Loss: 0.0000  Duration: 0.79 minutes\n",
            "Validation Accuracy 86.41 Validation Loss: 0.0001\n",
            "\n",
            "Epoch 25 Batch 2144\n",
            "Accuracy: 100.00 %  Loss: 0.0000  Duration: 0.79 minutes\n",
            "Validation Accuracy 86.30 Validation Loss: 0.0001\n",
            "\n",
            "Epoch 26 Batch 2144\n",
            "Accuracy: 100.00 %  Loss: 0.0000  Duration: 0.80 minutes\n",
            "Validation Accuracy 86.30 Validation Loss: 0.0000\n",
            "\n",
            "Epoch 27 Batch 2144\n",
            "Accuracy: 100.00 %  Loss: 0.0000  Duration: 0.79 minutes\n",
            "Validation Accuracy 86.30 Validation Loss: 0.0000\n",
            "\n",
            "Epoch 28 Batch 2144\n",
            "Accuracy: 100.00 %  Loss: 0.0000  Duration: 0.79 minutes\n",
            "Validation Accuracy 86.30 Validation Loss: 0.0000\n",
            "\n",
            "Epoch 29 Batch 2144\n",
            "Accuracy: 100.00 %  Loss: 0.0000  Duration: 0.79 minutes\n",
            "Validation Accuracy 86.30 Validation Loss: 0.0000\n",
            "\n",
            "Epoch 30 Batch 2144\n",
            "Accuracy: 100.00 %  Loss: 0.0000  Duration: 0.80 minutes\n",
            "Validation Accuracy 86.30 Validation Loss: 0.0000\n",
            "\n",
            "Epoch 31 Batch 2144\n",
            "Accuracy: 100.00 %  Loss: 0.0000  Duration: 0.80 minutes\n",
            "Validation Accuracy 86.20 Validation Loss: 0.0000\n",
            "\n",
            "Epoch 32 Batch 2144\n",
            "Accuracy: 100.00 %  Loss: 0.0000  Duration: 0.79 minutes\n",
            "Validation Accuracy 86.20 Validation Loss: 0.0000\n",
            "\n",
            "Epoch 33 Batch 2144\n",
            "Accuracy: 100.00 %  Loss: 0.0000  Duration: 0.80 minutes\n",
            "Validation Accuracy 86.20 Validation Loss: 0.0000\n",
            "\n",
            "Epoch 34 Batch 2144\n",
            "Accuracy: 100.00 %  Loss: 0.0000  Duration: 0.79 minutes\n",
            "Validation Accuracy 86.09 Validation Loss: 0.0000\n",
            "\n",
            "Epoch 35 Batch 2144\n",
            "Accuracy: 100.00 %  Loss: 0.0000  Duration: 0.79 minutes\n",
            "Validation Accuracy 86.09 Validation Loss: 0.0000\n",
            "\n",
            "Epoch 36 Batch 2144\n",
            "Accuracy: 100.00 %  Loss: 0.0000  Duration: 0.79 minutes\n",
            "Validation Accuracy 85.98 Validation Loss: 0.0000\n",
            "\n",
            "Epoch 37 Batch 2144\n",
            "Accuracy: 100.00 %  Loss: 0.0000  Duration: 0.79 minutes\n",
            "Validation Accuracy 85.98 Validation Loss: 0.0000\n",
            "\n",
            "Epoch 38 Batch 2144\n",
            "Accuracy: 100.00 %  Loss: 0.0000  Duration: 0.79 minutes\n",
            "Validation Accuracy 85.98 Validation Loss: 0.0000\n",
            "\n",
            "Epoch 39 Batch 2144\n",
            "Accuracy: 100.00 %  Loss: 0.0000  Duration: 0.79 minutes\n",
            "Validation Accuracy 85.98 Validation Loss: 0.0000\n",
            "\n",
            "Epoch 40 Batch 2144\n",
            "Accuracy: 100.00 %  Loss: 0.0000  Duration: 0.79 minutes\n",
            "Validation Accuracy 85.98 Validation Loss: 0.0000\n",
            "\n",
            "Epoch 41 Batch 2144\n",
            "Accuracy: 100.00 %  Loss: 0.0000  Duration: 0.80 minutes\n",
            "Validation Accuracy 85.98 Validation Loss: 0.0000\n",
            "\n",
            "Epoch 42 Batch 2144\n",
            "Accuracy: 100.00 %  Loss: 0.0000  Duration: 0.79 minutes\n",
            "Validation Accuracy 86.09 Validation Loss: 0.0000\n",
            "\n",
            "Epoch 43 Batch 2144\n",
            "Accuracy: 100.00 %  Loss: 0.0000  Duration: 0.79 minutes\n",
            "Validation Accuracy 86.09 Validation Loss: 0.0000\n",
            "\n",
            "Epoch 44 Batch 2144\n",
            "Accuracy: 100.00 %  Loss: 0.0000  Duration: 0.79 minutes\n",
            "Validation Accuracy 86.09 Validation Loss: 0.0000\n",
            "\n",
            "Epoch 45 Batch 2144\n",
            "Accuracy: 100.00 %  Loss: 0.0000  Duration: 0.79 minutes\n",
            "Validation Accuracy 86.09 Validation Loss: 0.0000\n",
            "\n",
            "Epoch 46 Batch 2144\n",
            "Accuracy: 100.00 %  Loss: 0.0000  Duration: 0.79 minutes\n",
            "Validation Accuracy 86.09 Validation Loss: 0.0000\n",
            "\n",
            "Epoch 47 Batch 2144\n",
            "Accuracy: 100.00 %  Loss: 0.0000  Duration: 0.79 minutes\n",
            "Validation Accuracy 86.09 Validation Loss: 0.0000\n",
            "\n",
            "Epoch 48 Batch 2144\n",
            "Accuracy: 100.00 %  Loss: 0.0000  Duration: 0.79 minutes\n",
            "Validation Accuracy 86.09 Validation Loss: 0.0000\n",
            "\n",
            "Epoch 49 Batch 2144\n",
            "Accuracy: 100.00 %  Loss: 0.0000  Duration: 0.79 minutes\n",
            "Validation Accuracy 86.09 Validation Loss: 0.0000\n",
            "\n",
            "Epoch 50 Batch 2144\n",
            "Accuracy: 100.00 %  Loss: 0.0000  Duration: 0.79 minutes\n",
            "Validation Accuracy 86.09 Validation Loss: 0.0000\n",
            "\n",
            "\n",
            "Training Duration 48.02 minutes\n",
            "GPU memory used : 3004663808 kb\n",
            "GPU memory cached : 4299161600 kb\n"
          ],
          "name": "stdout"
        },
        {
          "output_type": "stream",
          "text": [
            "/usr/local/lib/python3.7/dist-packages/torch/cuda/memory.py:375: FutureWarning: torch.cuda.memory_cached has been renamed to torch.cuda.memory_reserved\n",
            "  FutureWarning)\n"
          ],
          "name": "stderr"
        }
      ]
    },
    {
      "cell_type": "code",
      "metadata": {
        "id": "tx95S8gNS-0F"
      },
      "source": [
        "torch.save(model.state_dict(), '/content/drive/My Drive/bt_customCnn_model.pt')"
      ],
      "execution_count": null,
      "outputs": []
    },
    {
      "cell_type": "code",
      "metadata": {
        "colab": {
          "base_uri": "https://localhost:8080/",
          "height": 295
        },
        "id": "kW8mx5QoTPnk",
        "outputId": "6916d138-ff79-458d-9109-3aa14c1d6807"
      },
      "source": [
        "plt.plot(train_losses, label='Training loss')\n",
        "plt.plot(test_losses, label='Validation loss')\n",
        "plt.title('Loss Metrics')\n",
        "plt.ylabel('Loss')\n",
        "plt.xlabel('Epochs')\n",
        "plt.legend()\n",
        "plt.show()"
      ],
      "execution_count": null,
      "outputs": [
        {
          "output_type": "display_data",
          "data": {
            "image/png": "[encoded data removed]",
            "text/plain": [
              "<Figure size 432x288 with 1 Axes>"
            ]
          },
          "metadata": {
            "tags": [],
            "needs_background": "light"
          }
        }
      ]
    },
    {
      "cell_type": "code",
      "metadata": {
        "colab": {
          "base_uri": "https://localhost:8080/",
          "height": 295
        },
        "id": "y69w8aNkTXaP",
        "outputId": "e279fa59-59db-4eac-e9ac-beb73971a635"
      },
      "source": [
        "plt.plot([t/171 for t in train_correct], label='Training accuracy')\n",
        "plt.plot([t/36 for t in test_correct], label='Validation accuracy')\n",
        "plt.title('Accuracy Metrics')\n",
        "plt.ylabel('Accuracy')\n",
        "plt.xlabel('Epochs')\n",
        "plt.legend()\n",
        "plt.show()"
      ],
      "execution_count": null,
      "outputs": [
        {
          "output_type": "display_data",
          "data": {
            "image/png": "[encoded data removed]",
            "text/plain": [
              "<Figure size 432x288 with 1 Axes>"
            ]
          },
          "metadata": {
            "tags": [],
            "needs_background": "light"
          }
        }
      ]
    },
    {
      "cell_type": "code",
      "metadata": {
        "colab": {
          "base_uri": "https://localhost:8080/"
        },
        "id": "ZrfNzRJnWJ5m",
        "outputId": "4159d291-ff49-4f02-947d-80aaea05ee51"
      },
      "source": [
        "!pip install complexPyTorch\n",
        "from complexPyTorch.complexLayers import ComplexBatchNorm2d, ComplexConv2d, ComplexLinear\n",
        "from complexPyTorch.complexFunctions import complex_relu, complex_max_pool2d"
      ],
      "execution_count": null,
      "outputs": [
        {
          "output_type": "stream",
          "text": [
            "Collecting complexPyTorch\n",
            "  Downloading https://files.pythonhosted.org/packages/64/eb/182b68dc251a66f9aa1141c95f02c7b6e4876cb5eb396fa7cb1ae9b6d1b9/complexPyTorch-0.3-py3-none-any.whl\n",
            "Requirement already satisfied: torch in /usr/local/lib/python3.7/dist-packages (from complexPyTorch) (1.8.1+cu101)\n",
            "Requirement already satisfied: numpy in /usr/local/lib/python3.7/dist-packages (from torch->complexPyTorch) (1.19.5)\n",
            "Requirement already satisfied: typing-extensions in /usr/local/lib/python3.7/dist-packages (from torch->complexPyTorch) (3.7.4.3)\n",
            "Installing collected packages: complexPyTorch\n",
            "Successfully installed complexPyTorch-0.3\n"
          ],
          "name": "stdout"
        }
      ]
    },
    {
      "cell_type": "markdown",
      "metadata": {
        "id": "xL2836hUVX8g"
      },
      "source": [
        "Custom CNN"
      ]
    },
    {
      "cell_type": "code",
      "metadata": {
        "id": "1oBQcKDyXjc8"
      },
      "source": [
        "class CnnNet(nn.Module):\n",
        "    \n",
        "    def __init__(self):\n",
        "        super(CnnNet, self).__init__()\n",
        "        self.conv1 = nn.Conv2d(3,64,5)\n",
        "        self.bn  = nn.BatchNorm2d(64)\n",
        "        self.conv2 = nn.Conv2d(64, 16, 5)\n",
        "        self.fc1 = nn.Linear(16*125*125, 1000)\n",
        "        self.fc2 = nn.Linear(1000, 100)\n",
        "             \n",
        "    def forward(self,x):\n",
        "        x = self.conv1(x)\n",
        "        x = F.relu(x)\n",
        "        x = F.max_pool2d(x, 2, 2)\n",
        "        x = self.bn(x)\n",
        "        x = self.conv2(x)\n",
        "        x = F.relu(x)\n",
        "        x = F.max_pool2d(x, 2, 2)\n",
        "        x = x.view(-1,16*125*125)\n",
        "        x = self.fc1(x)\n",
        "        x = F.relu(x)\n",
        "        x = self.fc2(x)\n",
        "        x = x.abs()\n",
        "        x =  F.log_softmax(x, dim=1)\n",
        "        return x"
      ],
      "execution_count": null,
      "outputs": []
    },
    {
      "cell_type": "code",
      "metadata": {
        "colab": {
          "base_uri": "https://localhost:8080/"
        },
        "id": "_VbCKlP2W28N",
        "outputId": "78ee8a46-1208-4512-ddde-b3ecb516fed2"
      },
      "source": [
        "device = device = torch.device('cuda' if torch.cuda.is_available() else 'cpu')\n",
        "# defining the model\n",
        "cmodel = CnnNet().to(device)  \n",
        "print(cmodel)"
      ],
      "execution_count": null,
      "outputs": [
        {
          "output_type": "stream",
          "text": [
            "CnnNet(\n",
            "  (conv1): Conv2d(3, 64, kernel_size=(5, 5), stride=(1, 1))\n",
            "  (bn): BatchNorm2d(64, eps=1e-05, momentum=0.1, affine=True, track_running_stats=True)\n",
            "  (conv2): Conv2d(64, 16, kernel_size=(5, 5), stride=(1, 1))\n",
            "  (fc1): Linear(in_features=250000, out_features=1000, bias=True)\n",
            "  (fc2): Linear(in_features=1000, out_features=100, bias=True)\n",
            ")\n"
          ],
          "name": "stdout"
        }
      ]
    },
    {
      "cell_type": "code",
      "metadata": {
        "id": "ppX_-InDfxgh"
      },
      "source": [
        "# loss function\n",
        "# if GPU is available set loss function to use GPU\n",
        "criterion = nn.CrossEntropyLoss().to(device)\n",
        "\n",
        "# optimizer\n",
        "optimizer = torch.optim.SGD(cmodel.parameters(), lr=3e-4, momentum=0.9)\n",
        "\n",
        "# number of training iterations\n",
        "epochs = 10\n",
        "#epochs = 30\n",
        "\n",
        "# empty lists to store losses and accuracies\n",
        "train_losses = []\n",
        "test_losses = []\n",
        "train_correct = []\n",
        "test_correct = []"
      ],
      "execution_count": null,
      "outputs": []
    },
    {
      "cell_type": "code",
      "metadata": {
        "colab": {
          "base_uri": "https://localhost:8080/"
        },
        "id": "fjnOBop7f5De",
        "outputId": "778f4c8b-ff71-40c7-a85e-67eeadc18e3c"
      },
      "source": [
        "# set training start time\n",
        "start_time = time.time()\n",
        "\n",
        "# set best_prec loss value as 2 for checkpoint threshold\n",
        "best_prec1 = 2\n",
        "\n",
        "# empty batch variables\n",
        "b = None\n",
        "train_b = None\n",
        "test_b = None\n",
        "\n",
        "# start training\n",
        "for i in range(epochs):\n",
        "    # empty training correct and test correct counter as 0 during every iteration\n",
        "    trn_corr = 0\n",
        "    tst_corr = 0\n",
        "    \n",
        "    # set epoch's starting time\n",
        "    e_start = time.time()\n",
        "    \n",
        "    # train in batches\n",
        "    for b, (y, X) in enumerate(train_set):\n",
        "        # set label as cuda if device is cuda\n",
        "        X, y = X.to(device), y.to(device)\n",
        "        # forward pass image sample\n",
        "        y_pred = cmodel(X.view(-1, 3, 512, 512))\n",
        "        # calculate loss\n",
        "        loss = criterion(y_pred.float(), torch.argmax(y.view(1,4), dim=1).long())\n",
        "\n",
        "        # get argmax of predicted tensor, which is our label\n",
        "        predicted = torch.argmax(y_pred, dim=1).data\n",
        "        # if predicted label is correct as true label, calculate the sum for samples\n",
        "        batch_corr = (predicted == torch.argmax(y.view(1, 4), dim=1)).sum()\n",
        "        # increment train correct with correcly predicted labels per batch\n",
        "        trn_corr += batch_corr\n",
        "        \n",
        "        # set optimizer gradients to zero\n",
        "        optimizer.zero_grad()\n",
        "        # back propagate with loss\n",
        "        loss.backward()\n",
        "        # perform optimizer step\n",
        "        optimizer.step()\n",
        "\n",
        "    # set epoch's end time\n",
        "    e_end = time.time()\n",
        "    # print training metrics\n",
        "    print(f'Epoch {(i+1)} Batch {(b+1)*1}\\nAccuracy: {trn_corr.item()*100/(1*1*b):2.2f} %  Loss: {loss.item():2.4f}  Duration: {((e_end-e_start)/60):.2f} minutes') # 4 images per batch * 8 augmentations per image * batch length\n",
        "\n",
        "    # some metrics storage for visualization\n",
        "    train_b = b\n",
        "    train_losses.append(loss)\n",
        "    train_correct.append(trn_corr)\n",
        "\n",
        "    X, y = None, None\n",
        "\n",
        "    # validate using validation generator\n",
        "    # do not perform any gradient updates while validation\n",
        "    with torch.no_grad():\n",
        "        for b, (y, X) in enumerate(test_set):\n",
        "            # set label as cuda if device is cuda\n",
        "            X, y = X.to(device), y.to(device)\n",
        "            #print(y.shape)\n",
        "            # forward pass image\n",
        "            y_val = cmodel(X.view(-1, 3, 512, 512))\n",
        "\n",
        "            # get argmax of predicted tensor, which is our label\n",
        "            predicted = torch.argmax(y_val, dim=1).data\n",
        "\n",
        "            # increment test correct with correcly predicted labels per batch\n",
        "            tst_corr += (predicted == torch.argmax(y.view(1, 4), dim=1)).sum()\n",
        "\n",
        "    # get loss of validation set\n",
        "    loss = criterion(y_val.float(), torch.argmax(y.view(1, 4), dim=1).long())\n",
        "    # print validation metrics\n",
        "    print(f'Validation Accuracy {tst_corr.item()*100/(1*1*b):2.2f} Validation Loss: {loss.item():2.4f}\\n')\n",
        "\n",
        "    # if current validation loss is less than previous iteration's validatin loss create and save a checkpoint\n",
        "    is_best = loss < best_prec1\n",
        "    best_prec1 = min(loss, best_prec1)\n",
        "    save_checkpoint({\n",
        "            'epoch': i + 1,\n",
        "            'state_dict': cmodel.state_dict(),\n",
        "            'best_prec1': best_prec1,\n",
        "        }, is_best)\n",
        "\n",
        "    # some metrics storage for visualization\n",
        "    test_b  = b\n",
        "    test_losses.append(loss)\n",
        "    test_correct.append(tst_corr)\n",
        "\n",
        "# set total training's end time\n",
        "end_time = time.time() - start_time    \n",
        "\n",
        "# print training summary\n",
        "print(\"\\nTraining Duration {:.2f} minutes\".format(end_time/60))\n",
        "print(\"GPU memory used : {} kb\".format(torch.cuda.memory_allocated()))\n",
        "print(\"GPU memory cached : {} kb\".format(torch.cuda.memory_cached()))"
      ],
      "execution_count": null,
      "outputs": [
        {
          "output_type": "stream",
          "text": [
            "Epoch 1 Batch 2144\n",
            "Accuracy: 62.81 %  Loss: 5.2620  Duration: 1.43 minutes\n",
            "Validation Accuracy 71.93 Validation Loss: 0.0460\n",
            "\n",
            "Epoch 2 Batch 2144\n",
            "Accuracy: 82.50 %  Loss: 0.8347  Duration: 1.43 minutes\n",
            "Validation Accuracy 75.95 Validation Loss: 0.0001\n",
            "\n",
            "Epoch 3 Batch 2144\n",
            "Accuracy: 91.32 %  Loss: 0.0004  Duration: 1.43 minutes\n",
            "Validation Accuracy 79.65 Validation Loss: 0.0000\n",
            "\n",
            "Epoch 4 Batch 2144\n",
            "Accuracy: 94.87 %  Loss: 0.0001  Duration: 1.43 minutes\n",
            "Validation Accuracy 84.00 Validation Loss: 0.0000\n",
            "\n",
            "Epoch 5 Batch 2144\n",
            "Accuracy: 97.95 %  Loss: 0.0003  Duration: 1.43 minutes\n",
            "Validation Accuracy 86.18 Validation Loss: 0.0000\n",
            "\n",
            "Epoch 6 Batch 2144\n",
            "Accuracy: 97.90 %  Loss: 0.0000  Duration: 1.43 minutes\n",
            "Validation Accuracy 86.29 Validation Loss: 0.0000\n",
            "\n",
            "Epoch 7 Batch 2144\n",
            "Accuracy: 98.46 %  Loss: 0.0013  Duration: 1.43 minutes\n",
            "Validation Accuracy 86.51 Validation Loss: 0.0000\n",
            "\n",
            "Epoch 8 Batch 2144\n",
            "Accuracy: 99.58 %  Loss: 0.0048  Duration: 1.43 minutes\n",
            "Validation Accuracy 87.27 Validation Loss: 0.0000\n",
            "\n",
            "Epoch 9 Batch 2144\n",
            "Accuracy: 100.00 %  Loss: 0.0001  Duration: 1.43 minutes\n",
            "Validation Accuracy 89.23 Validation Loss: 0.0000\n",
            "\n",
            "Epoch 10 Batch 2144\n",
            "Accuracy: 100.00 %  Loss: 0.0002  Duration: 1.43 minutes\n",
            "Validation Accuracy 89.23 Validation Loss: 0.0000\n",
            "\n",
            "\n",
            "Training Duration 15.95 minutes\n",
            "GPU memory used : 5006821376 kb\n",
            "GPU memory cached : 6301941760 kb\n"
          ],
          "name": "stdout"
        },
        {
          "output_type": "stream",
          "text": [
            "/usr/local/lib/python3.7/dist-packages/torch/cuda/memory.py:375: FutureWarning: torch.cuda.memory_cached has been renamed to torch.cuda.memory_reserved\n",
            "  FutureWarning)\n"
          ],
          "name": "stderr"
        }
      ]
    },
    {
      "cell_type": "code",
      "metadata": {
        "colab": {
          "base_uri": "https://localhost:8080/",
          "height": 295
        },
        "id": "O4FSHrRiWQki",
        "outputId": "1b5a10be-bf48-4e6e-8a0f-658492f71ef0"
      },
      "source": [
        "plt.plot(train_losses, label='Training loss')\n",
        "plt.plot(test_losses, label='Validation loss')\n",
        "plt.title('Loss Metrics')\n",
        "plt.ylabel('Loss')\n",
        "plt.xlabel('Epochs')\n",
        "plt.legend()\n",
        "plt.show()"
      ],
      "execution_count": null,
      "outputs": [
        {
          "output_type": "display_data",
          "data": {
            "image/png": "[encoded data removed]",
            "text/plain": [
              "<Figure size 432x288 with 1 Axes>"
            ]
          },
          "metadata": {
            "tags": []
          }
        }
      ]
    },
    {
      "cell_type": "code",
      "metadata": {
        "colab": {
          "base_uri": "https://localhost:8080/",
          "height": 295
        },
        "id": "CM-cCmXkWU2f",
        "outputId": "08a147e8-946c-4f79-8c4a-a9c2cd5490bd"
      },
      "source": [
        "plt.plot([t/171 for t in train_correct], label='Training accuracy')\n",
        "plt.plot([t/36 for t in test_correct], label='Validation accuracy')\n",
        "plt.title('Accuracy Metrics')\n",
        "plt.ylabel('Accuracy')\n",
        "plt.xlabel('Epochs')\n",
        "plt.legend()\n",
        "plt.show()"
      ],
      "execution_count": null,
      "outputs": [
        {
          "output_type": "display_data",
          "data": {
            "image/png": "[encoded data removed]",
            "text/plain": [
              "<Figure size 432x288 with 1 Axes>"
            ]
          },
          "metadata": {
            "tags": []
          }
        }
      ]
    },
    {
      "cell_type": "markdown",
      "metadata": {
        "id": "aOCZijxQRIKU"
      },
      "source": [
        "Complex CNN"
      ]
    },
    {
      "cell_type": "code",
      "metadata": {
        "id": "zw9c3lgDit1R"
      },
      "source": [
        "class ComplexCnn(nn.Module):\n",
        "    \n",
        "    def __init__(self):\n",
        "        super(ComplexCnn, self).__init__()\n",
        "        self.conv1 = ComplexConv2d(3,64,5)\n",
        "        self.bn  = ComplexBatchNorm2d(64)\n",
        "        self.conv2 = ComplexConv2d(64, 16, 5)\n",
        "        self.fc1 = ComplexLinear(16*125*125, 1000)\n",
        "        self.fc2 = ComplexLinear(1000, 100)\n",
        "             \n",
        "    def forward(self,x):\n",
        "        x = self.conv1(x)\n",
        "        x = complex_relu(x)\n",
        "        x = complex_max_pool2d(x, 2, 2)\n",
        "        x = self.bn(x)\n",
        "        x = self.conv2(x)\n",
        "        x = complex_relu(x)\n",
        "        x = complex_max_pool2d(x, 2, 2)\n",
        "        x = x.view(-1,16*125*125)\n",
        "        x = self.fc1(x)\n",
        "        x = complex_relu(x)\n",
        "        x = self.fc2(x)\n",
        "        x = x.abs()\n",
        "        x =  F.log_softmax(x, dim=1)\n",
        "        return x"
      ],
      "execution_count": null,
      "outputs": []
    },
    {
      "cell_type": "code",
      "metadata": {
        "colab": {
          "base_uri": "https://localhost:8080/"
        },
        "id": "I_82VqkCjY6O",
        "outputId": "a4319c4f-076a-4148-a662-e9df601b1f42"
      },
      "source": [
        "device = device = torch.device('cuda' if torch.cuda.is_available() else 'cpu')\n",
        "# defining the model\n",
        "complexdmodel = ComplexCnn().to(device)  \n",
        "print(complexdmodel)"
      ],
      "execution_count": null,
      "outputs": [
        {
          "output_type": "stream",
          "text": [
            "ComplexCnn(\n",
            "  (conv1): ComplexConv2d(\n",
            "    (conv_r): Conv2d(3, 64, kernel_size=(5, 5), stride=(1, 1))\n",
            "    (conv_i): Conv2d(3, 64, kernel_size=(5, 5), stride=(1, 1))\n",
            "  )\n",
            "  (bn): ComplexBatchNorm2d()\n",
            "  (conv2): ComplexConv2d(\n",
            "    (conv_r): Conv2d(64, 16, kernel_size=(5, 5), stride=(1, 1))\n",
            "    (conv_i): Conv2d(64, 16, kernel_size=(5, 5), stride=(1, 1))\n",
            "  )\n",
            "  (fc1): ComplexLinear(\n",
            "    (fc_r): Linear(in_features=250000, out_features=1000, bias=True)\n",
            "    (fc_i): Linear(in_features=250000, out_features=1000, bias=True)\n",
            "  )\n",
            "  (fc2): ComplexLinear(\n",
            "    (fc_r): Linear(in_features=1000, out_features=100, bias=True)\n",
            "    (fc_i): Linear(in_features=1000, out_features=100, bias=True)\n",
            "  )\n",
            ")\n"
          ],
          "name": "stdout"
        }
      ]
    },
    {
      "cell_type": "code",
      "metadata": {
        "id": "KsoYJc09kyro"
      },
      "source": [
        "# loss function\n",
        "# if GPU is available set loss function to use GPU\n",
        "criterion = nn.CrossEntropyLoss().to(device)\n",
        "\n",
        "# optimizer\n",
        "optimizer = torch.optim.SGD(complexdmodel.parameters(), lr=3e-4, momentum=0.9)\n",
        "\n",
        "# number of training iterations\n",
        "epochs = 10\n",
        "#epochs = 30\n",
        "\n",
        "# empty lists to store losses and accuracies\n",
        "train_losses = []\n",
        "test_losses = []\n",
        "train_correct = []\n",
        "test_correct = []"
      ],
      "execution_count": null,
      "outputs": []
    },
    {
      "cell_type": "code",
      "metadata": {
        "id": "q2lAmiVO26Nl"
      },
      "source": [],
      "execution_count": null,
      "outputs": []
    },
    {
      "cell_type": "code",
      "metadata": {
        "colab": {
          "background_save": true,
          "base_uri": "https://localhost:8080/"
        },
        "id": "0kAM_4TYk9T6",
        "outputId": "4f01ebc8-0c5c-41a6-fcf8-e2ddda30e906"
      },
      "source": [
        "# set training start time\n",
        "start_time = time.time()\n",
        "\n",
        "# set best_prec loss value as 2 for checkpoint threshold\n",
        "best_prec1 = 2\n",
        "\n",
        "# empty batch variables\n",
        "b = None\n",
        "train_b = None\n",
        "test_b = None\n",
        "\n",
        "# start training\n",
        "for i in range(epochs):\n",
        "    # empty training correct and test correct counter as 0 during every iteration\n",
        "    trn_corr = 0\n",
        "    tst_corr = 0\n",
        "    \n",
        "    # set epoch's starting time\n",
        "    e_start = time.time()\n",
        "    \n",
        "    # train in batches\n",
        "    for b, (y, X) in enumerate(train_set):\n",
        "        # set label as cuda if device is cuda\n",
        "        X, y = X.to(device).type(torch.complex64), y.to(device)\n",
        "        # forward pass image sample\n",
        "        y_pred = complexdmodel(X.view(-1, 3, 512, 512))\n",
        "        # calculate loss\n",
        "        loss = criterion(y_pred.float(), torch.argmax(y.view(1,4), dim=1).long())\n",
        "\n",
        "        # get argmax of predicted tensor, which is our label\n",
        "        predicted = torch.argmax(y_pred, dim=1).data\n",
        "        # if predicted label is correct as true label, calculate the sum for samples\n",
        "        batch_corr = (predicted == torch.argmax(y.view(1, 4), dim=1)).sum()\n",
        "        # increment train correct with correcly predicted labels per batch\n",
        "        trn_corr += batch_corr\n",
        "        \n",
        "        # set optimizer gradients to zero\n",
        "        optimizer.zero_grad()\n",
        "        # back propagate with loss\n",
        "        loss.backward()\n",
        "        # perform optimizer step\n",
        "        optimizer.step()\n",
        "\n",
        "    # set epoch's end time\n",
        "    e_end = time.time()\n",
        "    # print training metrics\n",
        "    print(f'Epoch {(i+1)} Batch {(b+1)*1}\\nAccuracy: {trn_corr.item()*100/(1*1*b):2.2f} %  Loss: {loss.item():2.4f}  Duration: {((e_end-e_start)/60):.2f} minutes') # 4 images per batch * 8 augmentations per image * batch length\n",
        "\n",
        "    # some metrics storage for visualization\n",
        "    train_b = b\n",
        "    train_losses.append(loss)\n",
        "    train_correct.append(trn_corr)\n",
        "\n",
        "    X, y = None, None\n",
        "\n",
        "    # validate using validation generator\n",
        "    # do not perform any gradient updates while validation\n",
        "    with torch.no_grad():\n",
        "        for b, (y, X) in enumerate(test_set):\n",
        "            # set label as cuda if device is cuda\n",
        "            X, y = X.to(device).type(torch.complex64), y.to(device)\n",
        "            #print(y.shape)\n",
        "            # forward pass image\n",
        "            y_val = complexdmodel(X.view(-1, 3, 512, 512))\n",
        "\n",
        "            # get argmax of predicted tensor, which is our label\n",
        "            predicted = torch.argmax(y_val, dim=1).data\n",
        "\n",
        "            # increment test correct with correcly predicted labels per batch\n",
        "            tst_corr += (predicted == torch.argmax(y.view(1, 4), dim=1)).sum()\n",
        "\n",
        "    # get loss of validation set\n",
        "    loss = criterion(y_val.float(), torch.argmax(y.view(1, 4), dim=1).long())\n",
        "    # print validation metrics\n",
        "    print(f'Validation Accuracy {tst_corr.item()*100/(1*1*b):2.2f} Validation Loss: {loss.item():2.4f}\\n')\n",
        "\n",
        "    # if current validation loss is less than previous iteration's validatin loss create and save a checkpoint\n",
        "    is_best = loss < best_prec1\n",
        "    best_prec1 = min(loss, best_prec1)\n",
        "    save_checkpoint({\n",
        "            'epoch': i + 1,\n",
        "            'state_dict': complexdmodel.state_dict(),\n",
        "            'best_prec1': best_prec1,\n",
        "        }, is_best)\n",
        "\n",
        "    # some metrics storage for visualization\n",
        "    test_b  = b\n",
        "    test_losses.append(loss)\n",
        "    test_correct.append(tst_corr)\n",
        "\n",
        "# set total training's end time\n",
        "end_time = time.time() - start_time    \n",
        "\n",
        "# print training summary\n",
        "print(\"\\nTraining Duration {:.2f} minutes\".format(end_time/60))\n",
        "print(\"GPU memory used : {} kb\".format(torch.cuda.memory_allocated()))\n",
        "print(\"GPU memory cached : {} kb\".format(torch.cuda.memory_cached()))"
      ],
      "execution_count": null,
      "outputs": [
        {
          "output_type": "stream",
          "text": [
            "Epoch 1 Batch 2144\n",
            "Accuracy: 0.93 %  Loss: nan  Duration: 5.51 minutes\n",
            "Validation Accuracy 0.00 Validation Loss: nan\n",
            "\n",
            "Epoch 2 Batch 2144\n",
            "Accuracy: 0.00 %  Loss: nan  Duration: 5.51 minutes\n",
            "Validation Accuracy 0.00 Validation Loss: nan\n",
            "\n",
            "Epoch 3 Batch 2144\n",
            "Accuracy: 0.00 %  Loss: nan  Duration: 5.51 minutes\n",
            "Validation Accuracy 0.00 Validation Loss: nan\n",
            "\n",
            "Epoch 4 Batch 2144\n",
            "Accuracy: 0.00 %  Loss: nan  Duration: 5.51 minutes\n",
            "Validation Accuracy 0.00 Validation Loss: nan\n",
            "\n",
            "Epoch 5 Batch 2144\n",
            "Accuracy: 0.00 %  Loss: nan  Duration: 5.51 minutes\n",
            "Validation Accuracy 0.00 Validation Loss: nan\n",
            "\n",
            "Epoch 6 Batch 2144\n",
            "Accuracy: 0.00 %  Loss: nan  Duration: 5.51 minutes\n",
            "Validation Accuracy 0.00 Validation Loss: nan\n",
            "\n",
            "Epoch 7 Batch 2144\n",
            "Accuracy: 0.00 %  Loss: nan  Duration: 5.51 minutes\n",
            "Validation Accuracy 0.00 Validation Loss: nan\n",
            "\n",
            "Epoch 8 Batch 2144\n",
            "Accuracy: 0.00 %  Loss: nan  Duration: 5.51 minutes\n",
            "Validation Accuracy 0.00 Validation Loss: nan\n",
            "\n",
            "Epoch 9 Batch 2144\n",
            "Accuracy: 0.00 %  Loss: nan  Duration: 5.51 minutes\n",
            "Validation Accuracy 0.00 Validation Loss: nan\n",
            "\n",
            "Epoch 10 Batch 2144\n",
            "Accuracy: 0.00 %  Loss: nan  Duration: 5.51 minutes\n",
            "Validation Accuracy 0.00 Validation Loss: nan\n",
            "\n",
            "\n",
            "Training Duration 61.54 minutes\n",
            "GPU memory used : 10014217216 kb\n",
            "GPU memory cached : 15311306752 kb\n"
          ],
          "name": "stdout"
        },
        {
          "output_type": "stream",
          "text": [
            "/usr/local/lib/python3.7/dist-packages/torch/cuda/memory.py:375: FutureWarning: torch.cuda.memory_cached has been renamed to torch.cuda.memory_reserved\n",
            "  FutureWarning)\n"
          ],
          "name": "stderr"
        }
      ]
    },
    {
      "cell_type": "code",
      "metadata": {
        "colab": {
          "background_save": true
        },
        "id": "TyPH9DyMWZXN",
        "outputId": "9f9d0fd9-6bfd-4ea9-851d-00bb2eb8dfea"
      },
      "source": [
        "plt.plot(train_losses, label='Training loss')\n",
        "plt.plot(test_losses, label='Validation loss')\n",
        "plt.title('Loss Metrics')\n",
        "plt.ylabel('Loss')\n",
        "plt.xlabel('Epochs')\n",
        "plt.legend()\n",
        "plt.show()"
      ],
      "execution_count": null,
      "outputs": [
        {
          "output_type": "display_data",
          "data": {
            "image/png": "[encoded data removed]",
            "text/plain": [
              "<Figure size 432x288 with 1 Axes>"
            ]
          },
          "metadata": {
            "tags": []
          }
        }
      ]
    },
    {
      "cell_type": "code",
      "metadata": {
        "colab": {
          "background_save": true
        },
        "id": "Pa9ZNEdxWeB6",
        "outputId": "919a3d4b-55d5-47bd-a5c9-27a6351e87a2"
      },
      "source": [
        "plt.plot([t/171 for t in train_correct], label='Training accuracy')\n",
        "plt.plot([t/36 for t in test_correct], label='Validation accuracy')\n",
        "plt.title('Accuracy Metrics')\n",
        "plt.ylabel('Accuracy')\n",
        "plt.xlabel('Epochs')\n",
        "plt.legend()\n",
        "plt.show()"
      ],
      "execution_count": null,
      "outputs": [
        {
          "output_type": "display_data",
          "data": {
            "image/png": "[encoded data removed]",
            "text/plain": [
              "<Figure size 432x288 with 1 Axes>"
            ]
          },
          "metadata": {
            "tags": []
          }
        }
      ]
    },
    {
      "cell_type": "markdown",
      "metadata": {
        "id": "YknRXGJne89r"
      },
      "source": [
        "ResNet18"
      ]
    },
    {
      "cell_type": "code",
      "metadata": {
        "colab": {
          "background_save": true,
          "referenced_widgets": [
            "dfbfdab7c6fb4a109175174b95135da1"
          ]
        },
        "id": "lZ0EUwIdefUA",
        "outputId": "8084f5ce-c273-4be5-d0f2-5d01b90146bd"
      },
      "source": [
        "resnet  = models.resnet18(pretrained=True)\n",
        "\n",
        "# set model to run on GPU or CPU absed on availibility\n",
        "resnet.to(device)\n",
        "\n",
        "# print the trasnfer learning NN model's architecture\n",
        "resnet"
      ],
      "execution_count": null,
      "outputs": [
        {
          "output_type": "stream",
          "text": [
            "Downloading: \"https://download.pytorch.org/models/resnet18-5c106cde.pth\" to /root/.cache/torch/hub/checkpoints/resnet18-5c106cde.pth\n"
          ],
          "name": "stderr"
        },
        {
          "output_type": "display_data",
          "data": {
            "application/vnd.jupyter.widget-view+json": {
              "model_id": "dfbfdab7c6fb4a109175174b95135da1",
              "version_major": 2,
              "version_minor": 0
            },
            "text/plain": [
              "HBox(children=(FloatProgress(value=0.0, max=46827520.0), HTML(value='')))"
            ]
          },
          "metadata": {
            "tags": []
          }
        },
        {
          "output_type": "stream",
          "text": [
            "\n"
          ],
          "name": "stdout"
        },
        {
          "output_type": "execute_result",
          "data": {
            "text/plain": [
              "ResNet(\n",
              "  (conv1): Conv2d(3, 64, kernel_size=(7, 7), stride=(2, 2), padding=(3, 3), bias=False)\n",
              "  (bn1): BatchNorm2d(64, eps=1e-05, momentum=0.1, affine=True, track_running_stats=True)\n",
              "  (relu): ReLU(inplace=True)\n",
              "  (maxpool): MaxPool2d(kernel_size=3, stride=2, padding=1, dilation=1, ceil_mode=False)\n",
              "  (layer1): Sequential(\n",
              "    (0): BasicBlock(\n",
              "      (conv1): Conv2d(64, 64, kernel_size=(3, 3), stride=(1, 1), padding=(1, 1), bias=False)\n",
              "      (bn1): BatchNorm2d(64, eps=1e-05, momentum=0.1, affine=True, track_running_stats=True)\n",
              "      (relu): ReLU(inplace=True)\n",
              "      (conv2): Conv2d(64, 64, kernel_size=(3, 3), stride=(1, 1), padding=(1, 1), bias=False)\n",
              "      (bn2): BatchNorm2d(64, eps=1e-05, momentum=0.1, affine=True, track_running_stats=True)\n",
              "    )\n",
              "    (1): BasicBlock(\n",
              "      (conv1): Conv2d(64, 64, kernel_size=(3, 3), stride=(1, 1), padding=(1, 1), bias=False)\n",
              "      (bn1): BatchNorm2d(64, eps=1e-05, momentum=0.1, affine=True, track_running_stats=True)\n",
              "      (relu): ReLU(inplace=True)\n",
              "      (conv2): Conv2d(64, 64, kernel_size=(3, 3), stride=(1, 1), padding=(1, 1), bias=False)\n",
              "      (bn2): BatchNorm2d(64, eps=1e-05, momentum=0.1, affine=True, track_running_stats=True)\n",
              "    )\n",
              "  )\n",
              "  (layer2): Sequential(\n",
              "    (0): BasicBlock(\n",
              "      (conv1): Conv2d(64, 128, kernel_size=(3, 3), stride=(2, 2), padding=(1, 1), bias=False)\n",
              "      (bn1): BatchNorm2d(128, eps=1e-05, momentum=0.1, affine=True, track_running_stats=True)\n",
              "      (relu): ReLU(inplace=True)\n",
              "      (conv2): Conv2d(128, 128, kernel_size=(3, 3), stride=(1, 1), padding=(1, 1), bias=False)\n",
              "      (bn2): BatchNorm2d(128, eps=1e-05, momentum=0.1, affine=True, track_running_stats=True)\n",
              "      (downsample): Sequential(\n",
              "        (0): Conv2d(64, 128, kernel_size=(1, 1), stride=(2, 2), bias=False)\n",
              "        (1): BatchNorm2d(128, eps=1e-05, momentum=0.1, affine=True, track_running_stats=True)\n",
              "      )\n",
              "    )\n",
              "    (1): BasicBlock(\n",
              "      (conv1): Conv2d(128, 128, kernel_size=(3, 3), stride=(1, 1), padding=(1, 1), bias=False)\n",
              "      (bn1): BatchNorm2d(128, eps=1e-05, momentum=0.1, affine=True, track_running_stats=True)\n",
              "      (relu): ReLU(inplace=True)\n",
              "      (conv2): Conv2d(128, 128, kernel_size=(3, 3), stride=(1, 1), padding=(1, 1), bias=False)\n",
              "      (bn2): BatchNorm2d(128, eps=1e-05, momentum=0.1, affine=True, track_running_stats=True)\n",
              "    )\n",
              "  )\n",
              "  (layer3): Sequential(\n",
              "    (0): BasicBlock(\n",
              "      (conv1): Conv2d(128, 256, kernel_size=(3, 3), stride=(2, 2), padding=(1, 1), bias=False)\n",
              "      (bn1): BatchNorm2d(256, eps=1e-05, momentum=0.1, affine=True, track_running_stats=True)\n",
              "      (relu): ReLU(inplace=True)\n",
              "      (conv2): Conv2d(256, 256, kernel_size=(3, 3), stride=(1, 1), padding=(1, 1), bias=False)\n",
              "      (bn2): BatchNorm2d(256, eps=1e-05, momentum=0.1, affine=True, track_running_stats=True)\n",
              "      (downsample): Sequential(\n",
              "        (0): Conv2d(128, 256, kernel_size=(1, 1), stride=(2, 2), bias=False)\n",
              "        (1): BatchNorm2d(256, eps=1e-05, momentum=0.1, affine=True, track_running_stats=True)\n",
              "      )\n",
              "    )\n",
              "    (1): BasicBlock(\n",
              "      (conv1): Conv2d(256, 256, kernel_size=(3, 3), stride=(1, 1), padding=(1, 1), bias=False)\n",
              "      (bn1): BatchNorm2d(256, eps=1e-05, momentum=0.1, affine=True, track_running_stats=True)\n",
              "      (relu): ReLU(inplace=True)\n",
              "      (conv2): Conv2d(256, 256, kernel_size=(3, 3), stride=(1, 1), padding=(1, 1), bias=False)\n",
              "      (bn2): BatchNorm2d(256, eps=1e-05, momentum=0.1, affine=True, track_running_stats=True)\n",
              "    )\n",
              "  )\n",
              "  (layer4): Sequential(\n",
              "    (0): BasicBlock(\n",
              "      (conv1): Conv2d(256, 512, kernel_size=(3, 3), stride=(2, 2), padding=(1, 1), bias=False)\n",
              "      (bn1): BatchNorm2d(512, eps=1e-05, momentum=0.1, affine=True, track_running_stats=True)\n",
              "      (relu): ReLU(inplace=True)\n",
              "      (conv2): Conv2d(512, 512, kernel_size=(3, 3), stride=(1, 1), padding=(1, 1), bias=False)\n",
              "      (bn2): BatchNorm2d(512, eps=1e-05, momentum=0.1, affine=True, track_running_stats=True)\n",
              "      (downsample): Sequential(\n",
              "        (0): Conv2d(256, 512, kernel_size=(1, 1), stride=(2, 2), bias=False)\n",
              "        (1): BatchNorm2d(512, eps=1e-05, momentum=0.1, affine=True, track_running_stats=True)\n",
              "      )\n",
              "    )\n",
              "    (1): BasicBlock(\n",
              "      (conv1): Conv2d(512, 512, kernel_size=(3, 3), stride=(1, 1), padding=(1, 1), bias=False)\n",
              "      (bn1): BatchNorm2d(512, eps=1e-05, momentum=0.1, affine=True, track_running_stats=True)\n",
              "      (relu): ReLU(inplace=True)\n",
              "      (conv2): Conv2d(512, 512, kernel_size=(3, 3), stride=(1, 1), padding=(1, 1), bias=False)\n",
              "      (bn2): BatchNorm2d(512, eps=1e-05, momentum=0.1, affine=True, track_running_stats=True)\n",
              "    )\n",
              "  )\n",
              "  (avgpool): AdaptiveAvgPool2d(output_size=(1, 1))\n",
              "  (fc): Linear(in_features=512, out_features=1000, bias=True)\n",
              ")"
            ]
          },
          "metadata": {
            "tags": []
          },
          "execution_count": 0
        }
      ]
    },
    {
      "cell_type": "code",
      "metadata": {
        "colab": {
          "background_save": true
        },
        "id": "kzqWoKIUepSN"
      },
      "source": [
        "# loss function\n",
        "# if GPU is available set loss function to use GPU\n",
        "criterion = nn.CrossEntropyLoss().to(device)\n",
        "\n",
        "# optimizer\n",
        "optimizer = torch.optim.SGD(resnet.parameters(), lr=3e-4, momentum=0.9)\n",
        "\n",
        "# number of training iterations\n",
        "epochs = 10\n",
        "#epochs = 30\n",
        "\n",
        "# empty lists to store losses and accuracies\n",
        "train_losses = []\n",
        "test_losses = []\n",
        "train_correct = []\n",
        "test_correct = []"
      ],
      "execution_count": null,
      "outputs": []
    },
    {
      "cell_type": "code",
      "metadata": {
        "colab": {
          "background_save": true
        },
        "id": "gcr5Rdhee0ww",
        "outputId": "5122d1a6-b72c-4c93-9a62-122a3c110a73"
      },
      "source": [
        "# set training start time\n",
        "start_time = time.time()\n",
        "\n",
        "# set best_prec loss value as 2 for checkpoint threshold\n",
        "best_prec1 = 2\n",
        "\n",
        "# empty batch variables\n",
        "b = None\n",
        "train_b = None\n",
        "test_b = None\n",
        "\n",
        "# start training\n",
        "for i in range(epochs):\n",
        "    # empty training correct and test correct counter as 0 during every iteration\n",
        "    trn_corr = 0\n",
        "    tst_corr = 0\n",
        "    \n",
        "    # set epoch's starting time\n",
        "    e_start = time.time()\n",
        "    \n",
        "    # train in batches\n",
        "    for b, (y, X) in enumerate(train_set):\n",
        "        # set label as cuda if device is cuda\n",
        "        X, y = X.to(device), y.to(device)\n",
        "        # forward pass image sample\n",
        "        y_pred = resnet(X.view(-1, 3, 512, 512))\n",
        "        # calculate loss\n",
        "        loss = criterion(y_pred.float(), torch.argmax(y.view(1,4), dim=1).long())\n",
        "\n",
        "        # get argmax of predicted tensor, which is our label\n",
        "        predicted = torch.argmax(y_pred, dim=1).data\n",
        "        # if predicted label is correct as true label, calculate the sum for samples\n",
        "        batch_corr = (predicted == torch.argmax(y.view(1, 4), dim=1)).sum()\n",
        "        # increment train correct with correcly predicted labels per batch\n",
        "        trn_corr += batch_corr\n",
        "        \n",
        "        # set optimizer gradients to zero\n",
        "        optimizer.zero_grad()\n",
        "        # back propagate with loss\n",
        "        loss.backward()\n",
        "        # perform optimizer step\n",
        "        optimizer.step()\n",
        "\n",
        "    # set epoch's end time\n",
        "    e_end = time.time()\n",
        "    # print training metrics\n",
        "    print(f'Epoch {(i+1)} Batch {(b+1)*1}\\nAccuracy: {trn_corr.item()*100/(1*1*b):2.2f} %  Loss: {loss.item():2.4f}  Duration: {((e_end-e_start)/60):.2f} minutes') # 4 images per batch * 8 augmentations per image * batch length\n",
        "\n",
        "    # some metrics storage for visualization\n",
        "    train_b = b\n",
        "    train_losses.append(loss)\n",
        "    train_correct.append(trn_corr)\n",
        "\n",
        "    X, y = None, None\n",
        "\n",
        "    # validate using validation generator\n",
        "    # do not perform any gradient updates while validation\n",
        "    with torch.no_grad():\n",
        "        for b, (y, X) in enumerate(test_set):\n",
        "            # set label as cuda if device is cuda\n",
        "            X, y = X.to(device), y.to(device)\n",
        "            #print(y.shape)\n",
        "            # forward pass image\n",
        "            y_val = resnet(X.view(-1, 3, 512, 512))\n",
        "\n",
        "            # get argmax of predicted tensor, which is our label\n",
        "            predicted = torch.argmax(y_val, dim=1).data\n",
        "\n",
        "            # increment test correct with correcly predicted labels per batch\n",
        "            tst_corr += (predicted == torch.argmax(y.view(1, 4), dim=1)).sum()\n",
        "\n",
        "    # get loss of validation set\n",
        "    loss = criterion(y_val.float(), torch.argmax(y.view(1, 4), dim=1).long())\n",
        "    # print validation metrics\n",
        "    print(f'Validation Accuracy {tst_corr.item()*100/(1*1*b):2.2f} Validation Loss: {loss.item():2.4f}\\n')\n",
        "\n",
        "    # if current validation loss is less than previous iteration's validatin loss create and save a checkpoint\n",
        "    is_best = loss < best_prec1\n",
        "    best_prec1 = min(loss, best_prec1)\n",
        "    save_checkpoint({\n",
        "            'epoch': i + 1,\n",
        "            'state_dict': resnet.state_dict(),\n",
        "            'best_prec1': best_prec1,\n",
        "        }, is_best)\n",
        "\n",
        "    # some metrics storage for visualization\n",
        "    test_b  = b\n",
        "    test_losses.append(loss)\n",
        "    test_correct.append(tst_corr)\n",
        "\n",
        "# set total training's end time\n",
        "end_time = time.time() - start_time    \n",
        "\n",
        "# print training summary\n",
        "print(\"\\nTraining Duration {:.2f} minutes\".format(end_time/60))\n",
        "print(\"GPU memory used : {} kb\".format(torch.cuda.memory_allocated()))\n",
        "print(\"GPU memory cached : {} kb\".format(torch.cuda.memory_cached()))"
      ],
      "execution_count": null,
      "outputs": [
        {
          "output_type": "stream",
          "text": [
            "Epoch 1 Batch 2144\n",
            "Accuracy: 73.54 %  Loss: 0.9389  Duration: 0.58 minutes\n",
            "Validation Accuracy 77.37 Validation Loss: 0.0948\n",
            "\n",
            "Epoch 2 Batch 2144\n",
            "Accuracy: 87.63 %  Loss: 0.4640  Duration: 0.55 minutes\n",
            "Validation Accuracy 81.07 Validation Loss: 0.0410\n",
            "\n",
            "Epoch 3 Batch 2144\n",
            "Accuracy: 91.13 %  Loss: 0.3089  Duration: 0.55 minutes\n",
            "Validation Accuracy 83.24 Validation Loss: 0.0412\n",
            "\n",
            "Epoch 4 Batch 2144\n",
            "Accuracy: 95.05 %  Loss: 0.0460  Duration: 0.55 minutes\n",
            "Validation Accuracy 91.62 Validation Loss: 0.0123\n",
            "\n",
            "Epoch 5 Batch 2144\n",
            "Accuracy: 98.23 %  Loss: 0.0081  Duration: 0.57 minutes\n",
            "Validation Accuracy 95.10 Validation Loss: 0.0045\n",
            "\n",
            "Epoch 6 Batch 2144\n",
            "Accuracy: 99.11 %  Loss: 0.0030  Duration: 0.55 minutes\n",
            "Validation Accuracy 95.54 Validation Loss: 0.0024\n",
            "\n",
            "Epoch 7 Batch 2144\n",
            "Accuracy: 99.95 %  Loss: 0.0024  Duration: 0.55 minutes\n",
            "Validation Accuracy 96.41 Validation Loss: 0.0025\n",
            "\n",
            "Epoch 8 Batch 2144\n",
            "Accuracy: 99.95 %  Loss: 0.0015  Duration: 0.57 minutes\n",
            "Validation Accuracy 96.30 Validation Loss: 0.0021\n",
            "\n",
            "Epoch 9 Batch 2144\n",
            "Accuracy: 100.05 %  Loss: 0.0010  Duration: 0.55 minutes\n",
            "Validation Accuracy 96.63 Validation Loss: 0.0022\n",
            "\n",
            "Epoch 10 Batch 2144\n",
            "Accuracy: 100.05 %  Loss: 0.0007  Duration: 0.55 minutes\n",
            "Validation Accuracy 96.74 Validation Loss: 0.0022\n",
            "\n",
            "\n",
            "Training Duration 6.66 minutes\n",
            "GPU memory used : 8151101952 kb\n",
            "GPU memory cached : 15330181120 kb\n"
          ],
          "name": "stdout"
        },
        {
          "output_type": "stream",
          "text": [
            "/usr/local/lib/python3.7/dist-packages/torch/cuda/memory.py:375: FutureWarning: torch.cuda.memory_cached has been renamed to torch.cuda.memory_reserved\n",
            "  FutureWarning)\n"
          ],
          "name": "stderr"
        }
      ]
    },
    {
      "cell_type": "code",
      "metadata": {
        "colab": {
          "background_save": true
        },
        "id": "Oc0ydOf7EAE7",
        "outputId": "13b9ca4d-83ca-49ed-a02b-852d82eb5efb"
      },
      "source": [
        "plt.plot(train_losses, label='Training loss')\n",
        "plt.plot(test_losses, label='Validation loss')\n",
        "plt.title('Loss Metrics')\n",
        "plt.ylabel('Loss')\n",
        "plt.xlabel('Epochs')\n",
        "plt.legend()\n",
        "plt.show()"
      ],
      "execution_count": null,
      "outputs": [
        {
          "output_type": "display_data",
          "data": {
            "image/png": "[encoded data removed]",
            "text/plain": [
              "<Figure size 432x288 with 1 Axes>"
            ]
          },
          "metadata": {
            "tags": []
          }
        }
      ]
    },
    {
      "cell_type": "code",
      "metadata": {
        "colab": {
          "background_save": true
        },
        "id": "0ljzMjCPEFiJ",
        "outputId": "a25f0e1a-d2f1-4693-a9bf-fec0f29d42f6"
      },
      "source": [
        "plt.plot([t/171 for t in train_correct], label='Training accuracy')\n",
        "plt.plot([t/36 for t in test_correct], label='Validation accuracy')\n",
        "plt.title('Accuracy Metrics')\n",
        "plt.ylabel('Accuracy')\n",
        "plt.xlabel('Epochs')\n",
        "plt.legend()\n",
        "plt.show()"
      ],
      "execution_count": null,
      "outputs": [
        {
          "output_type": "display_data",
          "data": {
            "image/png": "[encoded data removed]",
            "text/plain": [
              "<Figure size 432x288 with 1 Axes>"
            ]
          },
          "metadata": {
            "tags": []
          }
        }
      ]
    },
    {
      "cell_type": "markdown",
      "metadata": {
        "id": "flMiU5jKVWNS"
      },
      "source": []
    }
  ]
}